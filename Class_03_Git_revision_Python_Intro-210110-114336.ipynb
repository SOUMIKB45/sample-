{
 "cells": [
  {
   "cell_type": "code",
   "execution_count": null,
   "metadata": {},
   "outputs": [],
   "source": [
    "1. Create a local repo on system"
   ]
  },
  {
   "cell_type": "code",
   "execution_count": null,
   "metadata": {},
   "outputs": [],
   "source": [
    "2. Create some files"
   ]
  },
  {
   "cell_type": "code",
   "execution_count": null,
   "metadata": {},
   "outputs": [],
   "source": [
    "3. Creating one github repo"
   ]
  },
  {
   "cell_type": "code",
   "execution_count": null,
   "metadata": {},
   "outputs": [],
   "source": [
    "4. rename local master with main\n",
    "# git branch -m old_name new_name"
   ]
  },
  {
   "cell_type": "code",
   "execution_count": null,
   "metadata": {},
   "outputs": [],
   "source": [
    "5. link online repo with local repo"
   ]
  },
  {
   "cell_type": "code",
   "execution_count": null,
   "metadata": {},
   "outputs": [],
   "source": [
    "6. add, commit, push"
   ]
  },
  {
   "cell_type": "code",
   "execution_count": null,
   "metadata": {},
   "outputs": [],
   "source": [
    "➜  ~ pwd\n",
    "/Users/vigneshkarthick\n",
    "\n",
    "➜  ~ cd Desktop\n",
    "\n",
    "➜  Desktop cd LB_DSC_JAN_07_WKDY\n",
    "\n",
    "➜  LB_DSC_JAN_07_WKDY git init\n",
    "Initialized empty Git repository in /Users/vigneshkarthick/Desktop/LB_DSC_JAN_07_WKDY/.git/\n",
    "\n",
    "➜  LB_DSC_JAN_07_WKDY git:(master) ✗ ls\n",
    "Class_01_Induction_Class.ipynb Class_02_Git&GitHub.ipynb\n",
    "\n",
    "➜  LB_DSC_JAN_07_WKDY git:(master) ✗ git remote add origin https://github.com/iabhi1992/Hello_repo.git\n",
    "\n",
    "➜  LB_DSC_JAN_07_WKDY git:(master) ✗ git status\n",
    "On branch master\n",
    "\n",
    "No commits yet\n",
    "\n",
    "Untracked files:\n",
    "  (use \"git add <file>...\" to include in what will be committed)\n",
    "        .ipynb_checkpoints/\n",
    "        Class_01_Induction_Class.ipynb\n",
    "        Class_02_Git&GitHub.ipynb\n",
    "\n",
    "nothing added to commit but untracked files present (use \"git add\" to track)\n",
    "\n",
    "➜  LB_DSC_JAN_07_WKDY git:(master) ✗ git add .\n",
    "\n",
    "➜  LB_DSC_JAN_07_WKDY git:(master) ✗ git commit -m 'First Commit'\n",
    "[master (root-commit) b357d05] First Commit\n",
    " 4 files changed, 641 insertions(+)\n",
    " create mode 100644 .ipynb_checkpoints/Class_01_Induction_Class-checkpoint.ipynb\n",
    " create mode 100644 .ipynb_checkpoints/Class_02_Git&GitHub-checkpoint.ipynb\n",
    " create mode 100644 Class_01_Induction_Class.ipynb\n",
    " create mode 100644 Class_02_Git&GitHub.ipynb\n",
    "\n",
    "➜  LB_DSC_JAN_07_WKDY git:(master) git branch -m master main\n",
    "\n",
    "➜  LB_DSC_JAN_07_WKDY git:(main) git remote -v\n",
    "origin  https://github.com/iabhi1992/Hello_repo.git (fetch)\n",
    "origin  https://github.com/iabhi1992/Hello_repo.git (push)\n",
    "\n",
    "➜  LB_DSC_JAN_07_WKDY git:(main) git fetch origin\n",
    "warning: no common commits\n",
    "remote: Enumerating objects: 4, done.\n",
    "remote: Counting objects: 100% (4/4), done.\n",
    "remote: Compressing objects: 100% (3/3), done.\n",
    "remote: Total 4 (delta 0), reused 0 (delta 0), pack-reused 0\n",
    "Unpacking objects: 100% (4/4), 1.56 KiB | 399.00 KiB/s, done.\n",
    "From https://github.com/iabhi1992/Hello_repo\n",
    " * [new branch]      main       -> origin/main\n",
    "\n",
    "➜  LB_DSC_JAN_07_WKDY git:(main) git push -f origin main\n",
    "Username for 'https://github.com': iabhi1992@gmail.com\n",
    "Password for 'https://iabhi1992@gmail.com@github.com':\n",
    "Enumerating objects: 6, done.\n",
    "Counting objects: 100% (6/6), done.\n",
    "Delta compression using up to 4 threads\n",
    "Compressing objects: 100% (6/6), done.\n",
    "Writing objects: 100% (6/6), 2.72 KiB | 927.00 KiB/s, done.\n",
    "Total 6 (delta 1), reused 0 (delta 0), pack-reused 0\n",
    "remote: Resolving deltas: 100% (1/1), done.\n",
    "To https://github.com/iabhi1992/Hello_repo.git\n",
    " + fa047ee...b357d05 main -> main (forced update)\n",
    "\n",
    "➜  LB_DSC_JAN_07_WKDY git:(main)"
   ]
  },
  {
   "cell_type": "markdown",
   "metadata": {
    "ExecuteTime": {
     "end_time": "2021-01-10T04:16:25.779439Z",
     "start_time": "2021-01-10T04:16:25.774884Z"
    }
   },
   "source": [
    "# It is done, will resume at 9.55"
   ]
  },
  {
   "cell_type": "markdown",
   "metadata": {},
   "source": [
    "# Python"
   ]
  },
  {
   "cell_type": "code",
   "execution_count": null,
   "metadata": {},
   "outputs": [],
   "source": [
    "# Topcs to be covered\n",
    "    Why we use OS and Programming Language? \n",
    "    High Level vs Low Level Programming Language \n",
    "    Why are we Learning Python?\n",
    "    Compiler vs Interpreter\n",
    "    Compiled vs Interpreted Languages\n",
    "    Different Types of Errors in Python\n",
    "    Compile time vs Run time Errors in Python \n",
    "    Source code, Byte code, Machine code\n",
    "    How a Python Program runs on our system."
   ]
  },
  {
   "cell_type": "code",
   "execution_count": null,
   "metadata": {},
   "outputs": [],
   "source": [
    "Why we need OS?\n",
    "    OS - operating system\n",
    "    OS - manages the resources on our system, resources - memory, CPU, i/O devices, networking devices\n",
    "    OS - is the first application which gets loaded into the RAM.\n",
    "    Every application runs into RAM"
   ]
  },
  {
   "cell_type": "code",
   "execution_count": null,
   "metadata": {},
   "outputs": [],
   "source": [
    "# Why we need PL?\n",
    "    play - app - PL\n",
    "    calculate - app - PL\n",
    "    join a meeting - app - PL\n",
    "    calendar - app - PL"
   ]
  },
  {
   "cell_type": "code",
   "execution_count": null,
   "metadata": {},
   "outputs": [],
   "source": [
    "Why Python?"
   ]
  },
  {
   "cell_type": "code",
   "execution_count": null,
   "metadata": {},
   "outputs": [],
   "source": [
    "Types of PL-\n",
    "    Low - Machine language (Binary code 0 & 1), Assembly language - \n",
    "    High"
   ]
  },
  {
   "cell_type": "code",
   "execution_count": null,
   "metadata": {},
   "outputs": [],
   "source": [
    "and, or not\n",
    "high end app"
   ]
  },
  {
   "cell_type": "code",
   "execution_count": null,
   "metadata": {},
   "outputs": [],
   "source": [
    "low - \n",
    "    1. too much development time\n",
    "    2. Maintainence is not easy\n",
    "    \n",
    "Advantages:-\n",
    "    1. processing time is very less"
   ]
  },
  {
   "cell_type": "code",
   "execution_count": null,
   "metadata": {},
   "outputs": [],
   "source": [
    "ASCII Table - (char - to decimal)\n",
    "\n",
    "a = 10\n",
    "\n",
    "97 61 1010\n",
    "\n",
    "\n",
    "\n"
   ]
  },
  {
   "cell_type": "code",
   "execution_count": null,
   "metadata": {},
   "outputs": [],
   "source": [
    "# Translator - High level code to low level code\n",
    "    1. Compiler - takes the whole code at once and translates it to low level code\n",
    "    2. Interpreter - it is instruction by intruction translation"
   ]
  },
  {
   "cell_type": "code",
   "execution_count": null,
   "metadata": {},
   "outputs": [],
   "source": [
    "# High - C, C++, Java, Python\n",
    "\n",
    "# Data Analysis\n",
    "\n",
    "# Advantages/features of Python -\n",
    "    1. Python is Simple and easy to learn. Expressive langauge\n",
    "    2. Being HL PL it is easy to maintain\n",
    "    3. python is a general purpose PL\n",
    "        1. App\n",
    "        2. Game \n",
    "        3. Data Analysis\n",
    "        4. Ai/ML\n",
    "        5. Embedded App\n",
    "    4. Python is Interpreted Language\n",
    "    5. Python is portable and Platform independent\n",
    "    6. Python is dynamically typed\n",
    "    7. Python comes with batteries included\n",
    "\n"
   ]
  },
  {
   "cell_type": "code",
   "execution_count": null,
   "metadata": {},
   "outputs": [],
   "source": [
    "# a,b,c 10, 20, 30"
   ]
  },
  {
   "cell_type": "code",
   "execution_count": null,
   "metadata": {},
   "outputs": [],
   "source": [
    "# public class add{\n",
    "#     public static void main(string[args]){\n",
    "#         int a = 0;\n",
    "#         int b = 20;\n",
    "#         int c = a+b;\n",
    "#         system.out.println(c)\n",
    "#     }\n",
    "# }"
   ]
  },
  {
   "cell_type": "code",
   "execution_count": 5,
   "metadata": {
    "ExecuteTime": {
     "end_time": "2021-01-10T05:35:01.796771Z",
     "start_time": "2021-01-10T05:35:01.792424Z"
    }
   },
   "outputs": [
    {
     "name": "stdout",
     "output_type": "stream",
     "text": [
      "30\n"
     ]
    }
   ],
   "source": [
    "a = 10\n",
    "b = 20\n",
    "c = a+b\n",
    "print(c)"
   ]
  },
  {
   "cell_type": "code",
   "execution_count": 4,
   "metadata": {
    "ExecuteTime": {
     "end_time": "2021-01-10T04:57:30.733705Z",
     "start_time": "2021-01-10T04:57:30.722872Z"
    }
   },
   "outputs": [
    {
     "data": {
      "text/plain": [
       "['abc', 'abcd', 'mnopqrst', 'abdesf']"
      ]
     },
     "execution_count": 4,
     "metadata": {},
     "output_type": "execute_result"
    }
   ],
   "source": [
    "lst = ['abc@gmail.com', 'abcd@yahoo.com', 'mnopqrst@rediffmail.com', 'abdesf@hotmail.com']\n",
    "[i[:i.index('@')] for i in lst]"
   ]
  },
  {
   "cell_type": "code",
   "execution_count": null,
   "metadata": {},
   "outputs": [],
   "source": [
    "structured\n",
    "Functional\n",
    "modular\n",
    "oop"
   ]
  },
  {
   "cell_type": "code",
   "execution_count": 16,
   "metadata": {
    "ExecuteTime": {
     "end_time": "2021-01-10T05:49:03.359683Z",
     "start_time": "2021-01-10T05:49:03.348225Z"
    }
   },
   "outputs": [
    {
     "name": "stdout",
     "output_type": "stream",
     "text": [
      "30\n",
      "[10, 20, 304, 50]\n"
     ]
    }
   ],
   "source": [
    "# Compile time error\n",
    "#     Syntax Error - gramatical rules\n",
    "#     Indentation Error\n",
    "\n",
    "\n",
    "\n",
    "a = 10\n",
    "b = 20\n",
    "c = a+b\n",
    "print(c)\n",
    "lst = [10,20,304,50]\n",
    "print(lst)\n",
    "\n",
    "\n",
    "# a = 10\n",
    "# b = 20\n",
    "# c = a+b\n",
    "# print(c)\n",
    "\n"
   ]
  },
  {
   "cell_type": "code",
   "execution_count": 18,
   "metadata": {
    "ExecuteTime": {
     "end_time": "2021-01-10T05:49:23.419515Z",
     "start_time": "2021-01-10T05:49:23.402174Z"
    }
   },
   "outputs": [
    {
     "name": "stdout",
     "output_type": "stream",
     "text": [
      "30\n",
      "10\n"
     ]
    },
    {
     "ename": "NameError",
     "evalue": "name 'd' is not defined",
     "output_type": "error",
     "traceback": [
      "\u001b[0;31m---------------------------------------------------------------------------\u001b[0m",
      "\u001b[0;31mNameError\u001b[0m                                 Traceback (most recent call last)",
      "\u001b[0;32m<ipython-input-18-6725ee595439>\u001b[0m in \u001b[0;36m<module>\u001b[0;34m\u001b[0m\n\u001b[1;32m      9\u001b[0m \u001b[0mprint\u001b[0m\u001b[0;34m(\u001b[0m\u001b[0mc\u001b[0m\u001b[0;34m)\u001b[0m\u001b[0;34m\u001b[0m\u001b[0;34m\u001b[0m\u001b[0m\n\u001b[1;32m     10\u001b[0m \u001b[0mprint\u001b[0m\u001b[0;34m(\u001b[0m\u001b[0ma\u001b[0m\u001b[0;34m)\u001b[0m\u001b[0;34m\u001b[0m\u001b[0;34m\u001b[0m\u001b[0m\n\u001b[0;32m---> 11\u001b[0;31m \u001b[0mprint\u001b[0m\u001b[0;34m(\u001b[0m\u001b[0md\u001b[0m\u001b[0;34m)\u001b[0m\u001b[0;34m\u001b[0m\u001b[0;34m\u001b[0m\u001b[0m\n\u001b[0m\u001b[1;32m     12\u001b[0m \u001b[0mprint\u001b[0m\u001b[0;34m(\u001b[0m\u001b[0mb\u001b[0m\u001b[0;34m)\u001b[0m\u001b[0;34m\u001b[0m\u001b[0;34m\u001b[0m\u001b[0m\n",
      "\u001b[0;31mNameError\u001b[0m: name 'd' is not defined"
     ]
    }
   ],
   "source": [
    "# Run time Error\n",
    "#     Name Error\n",
    "#     Value Error\n",
    "#     Type Error etc\n",
    "\n",
    "a = 10\n",
    "b = 20\n",
    "c = a+b\n",
    "print(c)\n",
    "print(a)\n",
    "print(d)\n",
    "print(b)\n"
   ]
  },
  {
   "cell_type": "code",
   "execution_count": null,
   "metadata": {},
   "outputs": [],
   "source": [
    "# Command to execute the Python from CLI\n",
    "python file_name.py\n",
    "\n",
    "# For explicigt compilation of source code from CLI\n",
    "python -m py_compile file_name.py"
   ]
  },
  {
   "cell_type": "code",
   "execution_count": null,
   "metadata": {},
   "outputs": [],
   "source": []
  },
  {
   "cell_type": "code",
   "execution_count": null,
   "metadata": {},
   "outputs": [],
   "source": []
  },
  {
   "cell_type": "code",
   "execution_count": null,
   "metadata": {},
   "outputs": [],
   "source": []
  }
 ],
 "metadata": {
  "kernelspec": {
   "display_name": "Python 3",
   "language": "python",
   "name": "python3"
  },
  "language_info": {
   "codemirror_mode": {
    "name": "ipython",
    "version": 3
   },
   "file_extension": ".py",
   "mimetype": "text/x-python",
   "name": "python",
   "nbconvert_exporter": "python",
   "pygments_lexer": "ipython3",
   "version": "3.8.5"
  },
  "varInspector": {
   "cols": {
    "lenName": 16,
    "lenType": 16,
    "lenVar": 40
   },
   "kernels_config": {
    "python": {
     "delete_cmd_postfix": "",
     "delete_cmd_prefix": "del ",
     "library": "var_list.py",
     "varRefreshCmd": "print(var_dic_list())"
    },
    "r": {
     "delete_cmd_postfix": ") ",
     "delete_cmd_prefix": "rm(",
     "library": "var_list.r",
     "varRefreshCmd": "cat(var_dic_list()) "
    }
   },
   "types_to_exclude": [
    "module",
    "function",
    "builtin_function_or_method",
    "instance",
    "_Feature"
   ],
   "window_display": false
  }
 },
 "nbformat": 4,
 "nbformat_minor": 2
}
